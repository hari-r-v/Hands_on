{
 "cells": [
  {
   "cell_type": "code",
   "execution_count": 2,
   "metadata": {},
   "outputs": [],
   "source": [
    "import numpy as np\n",
    "import pandas as pd\n",
    "import matplotlib.pyplot as plt\n",
    "import seaborn as sns\n",
    "%matplotlib inline\n"
   ]
  },
  {
   "cell_type": "code",
   "execution_count": 3,
   "metadata": {},
   "outputs": [],
   "source": [
    "data = pd.read_csv('data/Flight_data.csv')"
   ]
  },
  {
   "cell_type": "code",
   "execution_count": 4,
   "metadata": {},
   "outputs": [
    {
     "data": {
      "text/html": [
       "<div>\n",
       "<style scoped>\n",
       "    .dataframe tbody tr th:only-of-type {\n",
       "        vertical-align: middle;\n",
       "    }\n",
       "\n",
       "    .dataframe tbody tr th {\n",
       "        vertical-align: top;\n",
       "    }\n",
       "\n",
       "    .dataframe thead th {\n",
       "        text-align: right;\n",
       "    }\n",
       "</style>\n",
       "<table border=\"1\" class=\"dataframe\">\n",
       "  <thead>\n",
       "    <tr style=\"text-align: right;\">\n",
       "      <th></th>\n",
       "      <th>Departure City</th>\n",
       "      <th>Arrival City</th>\n",
       "      <th>Departure Date</th>\n",
       "      <th>Flight Duration</th>\n",
       "      <th>Delay Minutes</th>\n",
       "      <th>Customer ID</th>\n",
       "      <th>Name</th>\n",
       "      <th>Booking Class</th>\n",
       "      <th>Frequent Flyer Status</th>\n",
       "      <th>Route</th>\n",
       "      <th>Ticket Price</th>\n",
       "      <th>Competitor Price</th>\n",
       "      <th>Demand</th>\n",
       "      <th>Origin</th>\n",
       "      <th>Destination</th>\n",
       "      <th>Profitability</th>\n",
       "      <th>Loyalty Points</th>\n",
       "      <th>Churned</th>\n",
       "    </tr>\n",
       "  </thead>\n",
       "  <tbody>\n",
       "    <tr>\n",
       "      <th>0</th>\n",
       "      <td>Wilsonstad</td>\n",
       "      <td>Lake Johnmouth</td>\n",
       "      <td>2023-05-02 20:11:09</td>\n",
       "      <td>1.27581</td>\n",
       "      <td>120</td>\n",
       "      <td>3769</td>\n",
       "      <td>Daniel Oliver</td>\n",
       "      <td>Business</td>\n",
       "      <td>Gold</td>\n",
       "      <td>MEL-BNE</td>\n",
       "      <td>370.638128</td>\n",
       "      <td>382.947396</td>\n",
       "      <td>-0.932755</td>\n",
       "      <td>MEL</td>\n",
       "      <td>LHR</td>\n",
       "      <td>0.632226</td>\n",
       "      <td>4245</td>\n",
       "      <td>True</td>\n",
       "    </tr>\n",
       "    <tr>\n",
       "      <th>1</th>\n",
       "      <td>New Brent</td>\n",
       "      <td>Port Wanda</td>\n",
       "      <td>2023-04-21 00:10:14</td>\n",
       "      <td>1.27581</td>\n",
       "      <td>35</td>\n",
       "      <td>3529</td>\n",
       "      <td>Deborah Hall</td>\n",
       "      <td>Economy</td>\n",
       "      <td>Platinum</td>\n",
       "      <td>BNE-SYD</td>\n",
       "      <td>114.529016</td>\n",
       "      <td>394.583641</td>\n",
       "      <td>-1.005569</td>\n",
       "      <td>MEL</td>\n",
       "      <td>SIN</td>\n",
       "      <td>1.265026</td>\n",
       "      <td>833</td>\n",
       "      <td>True</td>\n",
       "    </tr>\n",
       "    <tr>\n",
       "      <th>2</th>\n",
       "      <td>South Samanthaberg</td>\n",
       "      <td>Lake Meganside</td>\n",
       "      <td>2023-05-12 15:16:31</td>\n",
       "      <td>0.72111</td>\n",
       "      <td>67</td>\n",
       "      <td>1303</td>\n",
       "      <td>Mary York</td>\n",
       "      <td>Economy</td>\n",
       "      <td>Platinum</td>\n",
       "      <td>MEL-BNE</td>\n",
       "      <td>164.468018</td>\n",
       "      <td>479.832444</td>\n",
       "      <td>1.761384</td>\n",
       "      <td>MEL</td>\n",
       "      <td>LAX</td>\n",
       "      <td>1.141651</td>\n",
       "      <td>2568</td>\n",
       "      <td>True</td>\n",
       "    </tr>\n",
       "    <tr>\n",
       "      <th>3</th>\n",
       "      <td>Lake Gracefurt</td>\n",
       "      <td>Jamesberg</td>\n",
       "      <td>2023-06-13 20:53:09</td>\n",
       "      <td>-0.94299</td>\n",
       "      <td>72</td>\n",
       "      <td>2965</td>\n",
       "      <td>Christina Sanchez</td>\n",
       "      <td>Economy</td>\n",
       "      <td>Gold</td>\n",
       "      <td>BNE-SYD</td>\n",
       "      <td>318.903167</td>\n",
       "      <td>286.301632</td>\n",
       "      <td>-0.520139</td>\n",
       "      <td>MEL</td>\n",
       "      <td>LAX</td>\n",
       "      <td>1.129291</td>\n",
       "      <td>284</td>\n",
       "      <td>True</td>\n",
       "    </tr>\n",
       "    <tr>\n",
       "      <th>4</th>\n",
       "      <td>Owenborough</td>\n",
       "      <td>Kelleymouth</td>\n",
       "      <td>2023-05-15 23:06:14</td>\n",
       "      <td>-0.38829</td>\n",
       "      <td>101</td>\n",
       "      <td>8779</td>\n",
       "      <td>Dustin Owens</td>\n",
       "      <td>Economy</td>\n",
       "      <td>Silver</td>\n",
       "      <td>BNE-SYD</td>\n",
       "      <td>389.971051</td>\n",
       "      <td>407.463316</td>\n",
       "      <td>-0.665768</td>\n",
       "      <td>BNE</td>\n",
       "      <td>SIN</td>\n",
       "      <td>1.218239</td>\n",
       "      <td>2805</td>\n",
       "      <td>True</td>\n",
       "    </tr>\n",
       "  </tbody>\n",
       "</table>\n",
       "</div>"
      ],
      "text/plain": [
       "       Departure City    Arrival City       Departure Date  Flight Duration  \\\n",
       "0          Wilsonstad  Lake Johnmouth  2023-05-02 20:11:09          1.27581   \n",
       "1           New Brent      Port Wanda  2023-04-21 00:10:14          1.27581   \n",
       "2  South Samanthaberg  Lake Meganside  2023-05-12 15:16:31          0.72111   \n",
       "3      Lake Gracefurt       Jamesberg  2023-06-13 20:53:09         -0.94299   \n",
       "4         Owenborough     Kelleymouth  2023-05-15 23:06:14         -0.38829   \n",
       "\n",
       "   Delay Minutes  Customer ID               Name Booking Class  \\\n",
       "0            120         3769      Daniel Oliver      Business   \n",
       "1             35         3529       Deborah Hall       Economy   \n",
       "2             67         1303          Mary York       Economy   \n",
       "3             72         2965  Christina Sanchez       Economy   \n",
       "4            101         8779       Dustin Owens       Economy   \n",
       "\n",
       "  Frequent Flyer Status    Route  Ticket Price  Competitor Price    Demand  \\\n",
       "0                  Gold  MEL-BNE    370.638128        382.947396 -0.932755   \n",
       "1              Platinum  BNE-SYD    114.529016        394.583641 -1.005569   \n",
       "2              Platinum  MEL-BNE    164.468018        479.832444  1.761384   \n",
       "3                  Gold  BNE-SYD    318.903167        286.301632 -0.520139   \n",
       "4                Silver  BNE-SYD    389.971051        407.463316 -0.665768   \n",
       "\n",
       "  Origin Destination  Profitability  Loyalty Points  Churned  \n",
       "0    MEL         LHR       0.632226            4245     True  \n",
       "1    MEL         SIN       1.265026             833     True  \n",
       "2    MEL         LAX       1.141651            2568     True  \n",
       "3    MEL         LAX       1.129291             284     True  \n",
       "4    BNE         SIN       1.218239            2805     True  "
      ]
     },
     "execution_count": 4,
     "metadata": {},
     "output_type": "execute_result"
    }
   ],
   "source": [
    "data.head()"
   ]
  },
  {
   "cell_type": "code",
   "execution_count": 5,
   "metadata": {},
   "outputs": [
    {
     "data": {
      "text/html": [
       "<div>\n",
       "<style scoped>\n",
       "    .dataframe tbody tr th:only-of-type {\n",
       "        vertical-align: middle;\n",
       "    }\n",
       "\n",
       "    .dataframe tbody tr th {\n",
       "        vertical-align: top;\n",
       "    }\n",
       "\n",
       "    .dataframe thead th {\n",
       "        text-align: right;\n",
       "    }\n",
       "</style>\n",
       "<table border=\"1\" class=\"dataframe\">\n",
       "  <thead>\n",
       "    <tr style=\"text-align: right;\">\n",
       "      <th></th>\n",
       "      <th>Departure City</th>\n",
       "      <th>Arrival City</th>\n",
       "      <th>Departure Date</th>\n",
       "      <th>Flight Duration</th>\n",
       "      <th>Delay Minutes</th>\n",
       "      <th>Customer ID</th>\n",
       "      <th>Name</th>\n",
       "      <th>Booking Class</th>\n",
       "      <th>Frequent Flyer Status</th>\n",
       "      <th>Route</th>\n",
       "      <th>Ticket Price</th>\n",
       "      <th>Competitor Price</th>\n",
       "      <th>Demand</th>\n",
       "      <th>Origin</th>\n",
       "      <th>Destination</th>\n",
       "      <th>Profitability</th>\n",
       "      <th>Loyalty Points</th>\n",
       "      <th>Churned</th>\n",
       "    </tr>\n",
       "  </thead>\n",
       "  <tbody>\n",
       "  </tbody>\n",
       "</table>\n",
       "</div>"
      ],
      "text/plain": [
       "Empty DataFrame\n",
       "Columns: [Departure City, Arrival City, Departure Date, Flight Duration, Delay Minutes, Customer ID, Name, Booking Class, Frequent Flyer Status, Route, Ticket Price, Competitor Price, Demand, Origin, Destination, Profitability, Loyalty Points, Churned]\n",
       "Index: []"
      ]
     },
     "execution_count": 5,
     "metadata": {},
     "output_type": "execute_result"
    }
   ],
   "source": [
    "name = input()\n",
    "df = data[data['Name'] == name]\n",
    "df"
   ]
  },
  {
   "cell_type": "code",
   "execution_count": 2,
   "metadata": {},
   "outputs": [
    {
     "name": "stdout",
     "output_type": "stream",
     "text": [
      "22\n"
     ]
    }
   ],
   "source": [
    "a = int(input())\n",
    "b = int(input())\n",
    "print(a+b)"
   ]
  },
  {
   "cell_type": "code",
   "execution_count": 24,
   "metadata": {},
   "outputs": [],
   "source": [
    "a=[1,2,3,4,5]\n",
    "b=[6,7,8,9]"
   ]
  },
  {
   "cell_type": "code",
   "execution_count": 25,
   "metadata": {},
   "outputs": [
    {
     "name": "stdout",
     "output_type": "stream",
     "text": [
      "1\n",
      "2\n",
      "3\n",
      "4\n"
     ]
    }
   ],
   "source": [
    "for aVal,bVal in zip(a,b):\n",
    "    print(aVal)\n",
    "    #print(aVal+bVal)"
   ]
  },
  {
   "cell_type": "code",
   "execution_count": 30,
   "metadata": {},
   "outputs": [],
   "source": [
    "c={'a':1,'b':2}"
   ]
  },
  {
   "cell_type": "code",
   "execution_count": 34,
   "metadata": {},
   "outputs": [
    {
     "data": {
      "text/plain": [
       "2"
      ]
     },
     "execution_count": 34,
     "metadata": {},
     "output_type": "execute_result"
    }
   ],
   "source": [
    "c['b']"
   ]
  },
  {
   "cell_type": "code",
   "execution_count": 20,
   "metadata": {},
   "outputs": [
    {
     "name": "stdout",
     "output_type": "stream",
     "text": [
      "9\n"
     ]
    }
   ],
   "source": [
    "try:\n",
    "    print(b[3])\n",
    "except:\n",
    "    print(\"This is out of range, give another index\")"
   ]
  },
  {
   "cell_type": "code",
   "execution_count": 27,
   "metadata": {},
   "outputs": [
    {
     "data": {
      "text/plain": [
       "5"
      ]
     },
     "execution_count": 27,
     "metadata": {},
     "output_type": "execute_result"
    }
   ],
   "source": [
    "a[len(a)-1]"
   ]
  },
  {
   "cell_type": "code",
   "execution_count": 28,
   "metadata": {},
   "outputs": [
    {
     "data": {
      "text/plain": [
       "5"
      ]
     },
     "execution_count": 28,
     "metadata": {},
     "output_type": "execute_result"
    }
   ],
   "source": [
    "a[-1]"
   ]
  },
  {
   "cell_type": "code",
   "execution_count": 31,
   "metadata": {},
   "outputs": [
    {
     "ename": "AttributeError",
     "evalue": "'dict' object has no attribute 'b'",
     "output_type": "error",
     "traceback": [
      "\u001b[1;31m---------------------------------------------------------------------------\u001b[0m",
      "\u001b[1;31mAttributeError\u001b[0m                            Traceback (most recent call last)",
      "\u001b[1;32m<ipython-input-31-97051191e1a9>\u001b[0m in \u001b[0;36m<module>\u001b[1;34m\u001b[0m\n\u001b[1;32m----> 1\u001b[1;33m \u001b[0ma\u001b[0m\u001b[1;33m.\u001b[0m\u001b[0mb\u001b[0m\u001b[1;33m\u001b[0m\u001b[1;33m\u001b[0m\u001b[0m\n\u001b[0m",
      "\u001b[1;31mAttributeError\u001b[0m: 'dict' object has no attribute 'b'"
     ]
    }
   ],
   "source": [
    "a.b"
   ]
  },
  {
   "cell_type": "code",
   "execution_count": null,
   "metadata": {},
   "outputs": [],
   "source": []
  }
 ],
 "metadata": {
  "kernelspec": {
   "display_name": "base",
   "language": "python",
   "name": "python3"
  },
  "language_info": {
   "codemirror_mode": {
    "name": "ipython",
    "version": 3
   },
   "file_extension": ".py",
   "mimetype": "text/x-python",
   "name": "python",
   "nbconvert_exporter": "python",
   "pygments_lexer": "ipython3",
   "version": "3.8.5"
  },
  "orig_nbformat": 4
 },
 "nbformat": 4,
 "nbformat_minor": 2
}
